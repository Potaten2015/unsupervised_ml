{
 "cells": [
  {
   "cell_type": "markdown",
   "id": "fb72c55a",
   "metadata": {},
   "source": [
    "# Assignment 2"
   ]
  },
  {
   "cell_type": "markdown",
   "id": "3310ec85",
   "metadata": {},
   "source": []
  },
  {
   "cell_type": "markdown",
   "id": "b6e82bb1",
   "metadata": {},
   "source": [
    "Import packages for data manipulation and visualization.\n",
    "\n",
    "*Note: These packages are just for linearly algebra operations, data wrangling, and visualization. No ML methods are used.*"
   ]
  },
  {
   "cell_type": "code",
   "execution_count": 199,
   "id": "5b071983",
   "metadata": {},
   "outputs": [],
   "source": [
    "import pandas as pd\n",
    "import numpy as np\n",
    "import pprint as pp\n",
    "from matplotlib import pyplot as plt\n",
    "from sklearn import datasets"
   ]
  },
  {
   "cell_type": "markdown",
   "id": "4f7223a0",
   "metadata": {},
   "source": [
    "Pull data from file"
   ]
  },
  {
   "cell_type": "code",
   "execution_count": 200,
   "id": "9835bbc1",
   "metadata": {},
   "outputs": [
    {
     "data": {
      "text/html": [
       "<div>\n",
       "<style scoped>\n",
       "    .dataframe tbody tr th:only-of-type {\n",
       "        vertical-align: middle;\n",
       "    }\n",
       "\n",
       "    .dataframe tbody tr th {\n",
       "        vertical-align: top;\n",
       "    }\n",
       "\n",
       "    .dataframe thead th {\n",
       "        text-align: right;\n",
       "    }\n",
       "</style>\n",
       "<table border=\"1\" class=\"dataframe\">\n",
       "  <thead>\n",
       "    <tr style=\"text-align: right;\">\n",
       "      <th></th>\n",
       "      <th>sepal length (cm)</th>\n",
       "      <th>sepal width (cm)</th>\n",
       "      <th>petal length (cm)</th>\n",
       "      <th>petal width (cm)</th>\n",
       "    </tr>\n",
       "  </thead>\n",
       "  <tbody>\n",
       "    <tr>\n",
       "      <th>0</th>\n",
       "      <td>5.1</td>\n",
       "      <td>3.5</td>\n",
       "      <td>1.4</td>\n",
       "      <td>0.2</td>\n",
       "    </tr>\n",
       "    <tr>\n",
       "      <th>1</th>\n",
       "      <td>4.9</td>\n",
       "      <td>3.0</td>\n",
       "      <td>1.4</td>\n",
       "      <td>0.2</td>\n",
       "    </tr>\n",
       "    <tr>\n",
       "      <th>2</th>\n",
       "      <td>4.7</td>\n",
       "      <td>3.2</td>\n",
       "      <td>1.3</td>\n",
       "      <td>0.2</td>\n",
       "    </tr>\n",
       "    <tr>\n",
       "      <th>3</th>\n",
       "      <td>4.6</td>\n",
       "      <td>3.1</td>\n",
       "      <td>1.5</td>\n",
       "      <td>0.2</td>\n",
       "    </tr>\n",
       "    <tr>\n",
       "      <th>4</th>\n",
       "      <td>5.0</td>\n",
       "      <td>3.6</td>\n",
       "      <td>1.4</td>\n",
       "      <td>0.2</td>\n",
       "    </tr>\n",
       "    <tr>\n",
       "      <th>...</th>\n",
       "      <td>...</td>\n",
       "      <td>...</td>\n",
       "      <td>...</td>\n",
       "      <td>...</td>\n",
       "    </tr>\n",
       "    <tr>\n",
       "      <th>145</th>\n",
       "      <td>6.7</td>\n",
       "      <td>3.0</td>\n",
       "      <td>5.2</td>\n",
       "      <td>2.3</td>\n",
       "    </tr>\n",
       "    <tr>\n",
       "      <th>146</th>\n",
       "      <td>6.3</td>\n",
       "      <td>2.5</td>\n",
       "      <td>5.0</td>\n",
       "      <td>1.9</td>\n",
       "    </tr>\n",
       "    <tr>\n",
       "      <th>147</th>\n",
       "      <td>6.5</td>\n",
       "      <td>3.0</td>\n",
       "      <td>5.2</td>\n",
       "      <td>2.0</td>\n",
       "    </tr>\n",
       "    <tr>\n",
       "      <th>148</th>\n",
       "      <td>6.2</td>\n",
       "      <td>3.4</td>\n",
       "      <td>5.4</td>\n",
       "      <td>2.3</td>\n",
       "    </tr>\n",
       "    <tr>\n",
       "      <th>149</th>\n",
       "      <td>5.9</td>\n",
       "      <td>3.0</td>\n",
       "      <td>5.1</td>\n",
       "      <td>1.8</td>\n",
       "    </tr>\n",
       "  </tbody>\n",
       "</table>\n",
       "<p>150 rows × 4 columns</p>\n",
       "</div>"
      ],
      "text/plain": [
       "     sepal length (cm)  sepal width (cm)  petal length (cm)  petal width (cm)\n",
       "0                  5.1               3.5                1.4               0.2\n",
       "1                  4.9               3.0                1.4               0.2\n",
       "2                  4.7               3.2                1.3               0.2\n",
       "3                  4.6               3.1                1.5               0.2\n",
       "4                  5.0               3.6                1.4               0.2\n",
       "..                 ...               ...                ...               ...\n",
       "145                6.7               3.0                5.2               2.3\n",
       "146                6.3               2.5                5.0               1.9\n",
       "147                6.5               3.0                5.2               2.0\n",
       "148                6.2               3.4                5.4               2.3\n",
       "149                5.9               3.0                5.1               1.8\n",
       "\n",
       "[150 rows x 4 columns]"
      ]
     },
     "execution_count": 200,
     "metadata": {},
     "output_type": "execute_result"
    }
   ],
   "source": [
    "\n",
    "# train_data = pd.read_csv('./data/body_measurements.csv')\n",
    "dataset = datasets.load_iris()\n",
    "classes = dataset.target\n",
    "train_data = pd.DataFrame(dataset.data)\n",
    "class_column='class'\n",
    "train_data.rename({header: dataset.feature_names[int(header)] for header in train_data.columns}, axis=1)\n",
    "train_data[class_column] = dataset.target_names[classes]\n"
   ]
  },
  {
   "cell_type": "markdown",
   "id": "80e65009",
   "metadata": {},
   "source": [
    "Let's take a look at some traits of our data, just to get a feel for it"
   ]
  },
  {
   "cell_type": "code",
   "execution_count": 201,
   "id": "79f9dfb9",
   "metadata": {},
   "outputs": [
    {
     "name": "stdout",
     "output_type": "stream",
     "text": [
      "0        float64\n",
      "1        float64\n",
      "2        float64\n",
      "3        float64\n",
      "class     object\n",
      "dtype: object\n"
     ]
    }
   ],
   "source": [
    "print(train_data.dtypes)"
   ]
  },
  {
   "cell_type": "markdown",
   "id": "ae6cf14c",
   "metadata": {},
   "source": [
    "We can see that we are working with numerical data, and two gender classes (male and female). I chose this data for this reason, as numerical data is ideal for PCA/LDA analysis.\n",
    "\n",
    "Let's dive a little deeper and get some ranges and averages for the data."
   ]
  },
  {
   "cell_type": "code",
   "execution_count": 202,
   "id": "9561db61",
   "metadata": {},
   "outputs": [
    {
     "name": "stdout",
     "output_type": "stream",
     "text": [
      "Averages\n"
     ]
    },
    {
     "name": "stderr",
     "output_type": "stream",
     "text": [
      "/var/folders/qz/cmcq5ghx3xsbqnsy89f5q8gw0000gn/T/ipykernel_37306/713710468.py:1: FutureWarning: Dropping of nuisance columns in DataFrame reductions (with 'numeric_only=None') is deprecated; in a future version this will raise TypeError.  Select only valid columns before calling the reduction.\n",
      "  uncat_averages = train_data.mean(0)\n"
     ]
    },
    {
     "data": {
      "text/html": [
       "<div>\n",
       "<style scoped>\n",
       "    .dataframe tbody tr th:only-of-type {\n",
       "        vertical-align: middle;\n",
       "    }\n",
       "\n",
       "    .dataframe tbody tr th {\n",
       "        vertical-align: top;\n",
       "    }\n",
       "\n",
       "    .dataframe thead th {\n",
       "        text-align: right;\n",
       "    }\n",
       "</style>\n",
       "<table border=\"1\" class=\"dataframe\">\n",
       "  <thead>\n",
       "    <tr style=\"text-align: right;\">\n",
       "      <th></th>\n",
       "      <th>0</th>\n",
       "      <th>1</th>\n",
       "      <th>2</th>\n",
       "      <th>3</th>\n",
       "    </tr>\n",
       "    <tr>\n",
       "      <th>class</th>\n",
       "      <th></th>\n",
       "      <th></th>\n",
       "      <th></th>\n",
       "      <th></th>\n",
       "    </tr>\n",
       "  </thead>\n",
       "  <tbody>\n",
       "    <tr>\n",
       "      <th>setosa</th>\n",
       "      <td>5.006</td>\n",
       "      <td>3.428</td>\n",
       "      <td>1.462</td>\n",
       "      <td>0.246</td>\n",
       "    </tr>\n",
       "    <tr>\n",
       "      <th>versicolor</th>\n",
       "      <td>5.936</td>\n",
       "      <td>2.770</td>\n",
       "      <td>4.260</td>\n",
       "      <td>1.326</td>\n",
       "    </tr>\n",
       "    <tr>\n",
       "      <th>virginica</th>\n",
       "      <td>6.588</td>\n",
       "      <td>2.974</td>\n",
       "      <td>5.552</td>\n",
       "      <td>2.026</td>\n",
       "    </tr>\n",
       "  </tbody>\n",
       "</table>\n",
       "</div>"
      ],
      "text/plain": [
       "                0      1      2      3\n",
       "class                                 \n",
       "setosa      5.006  3.428  1.462  0.246\n",
       "versicolor  5.936  2.770  4.260  1.326\n",
       "virginica   6.588  2.974  5.552  2.026"
      ]
     },
     "execution_count": 202,
     "metadata": {},
     "output_type": "execute_result"
    }
   ],
   "source": [
    "uncat_averages = train_data.mean(0)\n",
    "cat_data = train_data.groupby(class_column)\n",
    "cat_averages = cat_data.mean()\n",
    "cat_max = cat_data.max()\n",
    "cat_min = cat_data.min()\n",
    "\n",
    "print('Averages')\n",
    "cat_averages"
   ]
  },
  {
   "cell_type": "markdown",
   "id": "424d811e",
   "metadata": {},
   "source": [
    "Although we see a lot of variation in the dataset "
   ]
  },
  {
   "cell_type": "code",
   "execution_count": 203,
   "id": "445f4628",
   "metadata": {},
   "outputs": [
    {
     "name": "stdout",
     "output_type": "stream",
     "text": [
      "Max\n"
     ]
    },
    {
     "data": {
      "text/html": [
       "<div>\n",
       "<style scoped>\n",
       "    .dataframe tbody tr th:only-of-type {\n",
       "        vertical-align: middle;\n",
       "    }\n",
       "\n",
       "    .dataframe tbody tr th {\n",
       "        vertical-align: top;\n",
       "    }\n",
       "\n",
       "    .dataframe thead th {\n",
       "        text-align: right;\n",
       "    }\n",
       "</style>\n",
       "<table border=\"1\" class=\"dataframe\">\n",
       "  <thead>\n",
       "    <tr style=\"text-align: right;\">\n",
       "      <th></th>\n",
       "      <th>0</th>\n",
       "      <th>1</th>\n",
       "      <th>2</th>\n",
       "      <th>3</th>\n",
       "    </tr>\n",
       "    <tr>\n",
       "      <th>class</th>\n",
       "      <th></th>\n",
       "      <th></th>\n",
       "      <th></th>\n",
       "      <th></th>\n",
       "    </tr>\n",
       "  </thead>\n",
       "  <tbody>\n",
       "    <tr>\n",
       "      <th>setosa</th>\n",
       "      <td>5.8</td>\n",
       "      <td>4.4</td>\n",
       "      <td>1.9</td>\n",
       "      <td>0.6</td>\n",
       "    </tr>\n",
       "    <tr>\n",
       "      <th>versicolor</th>\n",
       "      <td>7.0</td>\n",
       "      <td>3.4</td>\n",
       "      <td>5.1</td>\n",
       "      <td>1.8</td>\n",
       "    </tr>\n",
       "    <tr>\n",
       "      <th>virginica</th>\n",
       "      <td>7.9</td>\n",
       "      <td>3.8</td>\n",
       "      <td>6.9</td>\n",
       "      <td>2.5</td>\n",
       "    </tr>\n",
       "  </tbody>\n",
       "</table>\n",
       "</div>"
      ],
      "text/plain": [
       "              0    1    2    3\n",
       "class                         \n",
       "setosa      5.8  4.4  1.9  0.6\n",
       "versicolor  7.0  3.4  5.1  1.8\n",
       "virginica   7.9  3.8  6.9  2.5"
      ]
     },
     "execution_count": 203,
     "metadata": {},
     "output_type": "execute_result"
    }
   ],
   "source": [
    "print('Max')\n",
    "cat_max"
   ]
  },
  {
   "cell_type": "code",
   "execution_count": 204,
   "id": "395dfab6",
   "metadata": {},
   "outputs": [
    {
     "name": "stdout",
     "output_type": "stream",
     "text": [
      "Min\n"
     ]
    },
    {
     "data": {
      "text/html": [
       "<div>\n",
       "<style scoped>\n",
       "    .dataframe tbody tr th:only-of-type {\n",
       "        vertical-align: middle;\n",
       "    }\n",
       "\n",
       "    .dataframe tbody tr th {\n",
       "        vertical-align: top;\n",
       "    }\n",
       "\n",
       "    .dataframe thead th {\n",
       "        text-align: right;\n",
       "    }\n",
       "</style>\n",
       "<table border=\"1\" class=\"dataframe\">\n",
       "  <thead>\n",
       "    <tr style=\"text-align: right;\">\n",
       "      <th></th>\n",
       "      <th>0</th>\n",
       "      <th>1</th>\n",
       "      <th>2</th>\n",
       "      <th>3</th>\n",
       "    </tr>\n",
       "    <tr>\n",
       "      <th>class</th>\n",
       "      <th></th>\n",
       "      <th></th>\n",
       "      <th></th>\n",
       "      <th></th>\n",
       "    </tr>\n",
       "  </thead>\n",
       "  <tbody>\n",
       "    <tr>\n",
       "      <th>setosa</th>\n",
       "      <td>4.3</td>\n",
       "      <td>2.3</td>\n",
       "      <td>1.0</td>\n",
       "      <td>0.1</td>\n",
       "    </tr>\n",
       "    <tr>\n",
       "      <th>versicolor</th>\n",
       "      <td>4.9</td>\n",
       "      <td>2.0</td>\n",
       "      <td>3.0</td>\n",
       "      <td>1.0</td>\n",
       "    </tr>\n",
       "    <tr>\n",
       "      <th>virginica</th>\n",
       "      <td>4.9</td>\n",
       "      <td>2.2</td>\n",
       "      <td>4.5</td>\n",
       "      <td>1.4</td>\n",
       "    </tr>\n",
       "  </tbody>\n",
       "</table>\n",
       "</div>"
      ],
      "text/plain": [
       "              0    1    2    3\n",
       "class                         \n",
       "setosa      4.3  2.3  1.0  0.1\n",
       "versicolor  4.9  2.0  3.0  1.0\n",
       "virginica   4.9  2.2  4.5  1.4"
      ]
     },
     "execution_count": 204,
     "metadata": {},
     "output_type": "execute_result"
    }
   ],
   "source": [
    "print('Min')\n",
    "cat_min\n"
   ]
  },
  {
   "cell_type": "markdown",
   "id": "154148d9",
   "metadata": {},
   "source": [
    "### PCA"
   ]
  },
  {
   "cell_type": "code",
   "execution_count": 205,
   "id": "88bb93ba",
   "metadata": {},
   "outputs": [],
   "source": [
    "# Create a function that performs PCA on a given dataframe\n",
    "def PCA(input_data, class_column, num_components, plot=True, test_data = None):\n",
    "    dropped_data = input_data.drop(class_column, axis=1)\n",
    "    normalized_data = (dropped_data-dropped_data.min(axis=0))/(dropped_data.max(axis=0)-dropped_data.min(axis=0))\n",
    "    transposed_data = np.transpose(normalized_data)\n",
    "    cov_matrix = np.cov(transposed_data)\n",
    "    w,v = np.linalg.eigh(cov_matrix)\n",
    "    print(sum(w))\n",
    "    sort_indices = np.flip(np.argsort(w))\n",
    "    eigenvectors = []\n",
    "    eigenvalues = []\n",
    "    for i in range(num_components):\n",
    "        eigenvectors.append(v[sort_indices[i]])\n",
    "        eigenvalues.append(w[sort_indices[i]])\n",
    "    eigenvectors = np.array(eigenvectors).transpose()\n",
    "    eigenvalues = np.abs(np.array(eigenvalues))\n",
    "    train_projected = np.dot(dropped_data, eigenvectors)\n",
    "    \n",
    "    if test_data:\n",
    "        test_projected = np.dot(test_data, eigenvectors)\n",
    "\n",
    "    if plot and num_components == 1:\n",
    "        fig, ax = plt.subplots()\n",
    "        ax.scatter(train_projected[:,0], len(train_projected) * [0])\n",
    "        if test_data:\n",
    "            ax.scatter(test_projected[:, 0], len(test_projected) * [0], marker='x')\n",
    "        plt.show()\n",
    "    if plot and num_components == 2:\n",
    "        fig, ax = plt.subplots()\n",
    "        ax.scatter(train_projected[:,0], train_projected[:, 1])\n",
    "        if test_data:\n",
    "            ax.scatter(train_projected[:,0], train_projected[:, 1], marker='x')\n",
    "        plt.show()\n",
    "    if plot and num_components == 3:\n",
    "        fig = plt.figure()\n",
    "        ax = plt.axes(projection='3d')\n",
    "        ax.scatter3D(train_projected[:,0], train_projected[:, 1], train_projected[:, 2])\n",
    "        if test_data:\n",
    "            ax.scatter3D(train_projected[:,0], train_projected[:, 1], train_projected[:, 2], marker='x')\n",
    "        plt.show()\n",
    "    print(f'{sum(eigenvalues) / sum(w) * 100}% of variance accounted for with {num_components} PCs')\n"
   ]
  },
  {
   "cell_type": "code",
   "execution_count": 206,
   "id": "4db81827",
   "metadata": {},
   "outputs": [
    {
     "name": "stdout",
     "output_type": "stream",
     "text": [
      "0.27628262027767314\n"
     ]
    },
    {
     "data": {
      "image/png": "[encoded data removed]",
      "text/plain": [
       "<Figure size 432x288 with 1 Axes>"
      ]
     },
     "metadata": {
      "needs_background": "light"
     },
     "output_type": "display_data"
    },
    {
     "name": "stdout",
     "output_type": "stream",
     "text": [
      "84.13603821315431% of variance accounted for with 1 PCs\n",
      "0.27628262027767314\n"
     ]
    },
    {
     "data": {
      "image/png": "[encoded data removed]",
      "text/plain": [
       "<Figure size 432x288 with 1 Axes>"
      ]
     },
     "metadata": {
      "needs_background": "light"
     },
     "output_type": "display_data"
    },
    {
     "name": "stdout",
     "output_type": "stream",
     "text": [
      "95.88784639918414% of variance accounted for with 2 PCs\n",
      "0.27628262027767314\n"
     ]
    },
    {
     "data": {
      "image/png": "[encoded data removed]",
      "text/plain": [
       "<Figure size 432x288 with 1 Axes>"
      ]
     },
     "metadata": {
      "needs_background": "light"
     },
     "output_type": "display_data"
    },
    {
     "name": "stdout",
     "output_type": "stream",
     "text": [
      "99.3614078079774% of variance accounted for with 3 PCs\n"
     ]
    }
   ],
   "source": [
    "\n",
    "PCA(train_data, class_column, 1)\n",
    "PCA(train_data, class_column, 2)\n",
    "PCA(train_data, class_column, 3)"
   ]
  },
  {
   "cell_type": "markdown",
   "id": "d6446014",
   "metadata": {},
   "source": [
    "Now we can see that PCA did seem to successfully find the axes with the highest variance, and that adding more components results in a higher percentage of the variance being accounted for. These results indicate that even with 3 PCs, there is still a large chunk of the variance that is unaccounted for, which means that the data that we are able to visualize isn't a great substitute for the original data. "
   ]
  },
  {
   "cell_type": "markdown",
   "id": "babc7e3b",
   "metadata": {},
   "source": [
    "### LDA"
   ]
  },
  {
   "cell_type": "markdown",
   "id": "2b9969e9",
   "metadata": {},
   "source": [
    "This [tutorial](https://www.youtube.com/watch?v=9IDXYHhAfGA&t=396s&ab_channel=PythonEngineer) was a huge help to me for implementing the first section of the PCA algorithm in Python. The second half is extremely similar to the PCA algorithm."
   ]
  },
  {
   "cell_type": "code",
   "execution_count": 207,
   "id": "a044aa16",
   "metadata": {},
   "outputs": [],
   "source": [
    "def LDA(input_data, class_column, num_components, plot=True, test_data=None):\n",
    "    dropped_data = input_data.drop(class_column, axis=1).to_numpy()\n",
    "    normalized_data = (dropped_data-dropped_data.min(axis=0))/(dropped_data.max(axis=0)-dropped_data.min(axis=0))\n",
    "    n_features = normalized_data.shape[1]\n",
    "    categorized_data = input_data.groupby(class_column)\n",
    "    classes = list(categorized_data.indices.keys())\n",
    "    SW = np.zeros((n_features, n_features))\n",
    "    SB = np.zeros((n_features, n_features))\n",
    "    all_mean = normalized_data.mean(axis=0)\n",
    "    for c in classes:\n",
    "        XC = normalized_data[input_data[class_column] == c]\n",
    "        c_mean = XC.mean(axis=0)\n",
    "        SW += (XC-c_mean).T @ (XC-c_mean)\n",
    "        c_samples = XC.shape[0]\n",
    "        mean_diff = (c_mean - all_mean).reshape(n_features, 1)\n",
    "        SB += c_samples * mean_diff @ mean_diff.T\n",
    "\n",
    "    scatters = np.linalg.inv(SW) @ SB\n",
    "    w,v = np.linalg.eig(scatters)\n",
    "    v = v.T\n",
    "    sort_indices = np.flip(np.argsort(np.abs(w)))\n",
    "    eigenvectors = []\n",
    "    eigenvalues = []\n",
    "\n",
    "    for i in range(num_components):\n",
    "        eigenvectors.append(v[sort_indices[i]])\n",
    "        eigenvalues.append(w[sort_indices[i]])\n",
    "    eigenvectors = np.array(eigenvectors).T\n",
    "    eigenvalues = np.abs(np.array(eigenvalues))\n",
    "    train_projected = np.dot(dropped_data, eigenvectors)\n",
    "\n",
    "    colors = ['r', 'b', 'k']\n",
    "\n",
    "    if test_data:\n",
    "        test_projected = np.dot(test_data, eigenvectors)\n",
    "\n",
    "    if plot and num_components == 1:\n",
    "        fig, ax = plt.subplots()\n",
    "        for i, c in enumerate(classes):\n",
    "            data = train_projected[input_data[class_column] == c]\n",
    "            color = colors[i]\n",
    "            ax.scatter(data[:,0], len(data) * [0], edgecolors=color, facecolors='none')\n",
    "            if test_data:\n",
    "                t_data = test_projected.loc(test_projected[class_column] == c)\n",
    "                ax.scatter(t_data[:,0], len(data) * [0], edgecolors=color, facecolors='none', marker='x')\n",
    "        plt.show()\n",
    "    if plot and num_components == 2:\n",
    "        fig, ax = plt.subplots()\n",
    "        for i, c in enumerate(classes):\n",
    "            data = train_projected[input_data[class_column] == c]\n",
    "            color = colors[i]\n",
    "            ax.scatter(data[:,0], data[:, 1], edgecolors=color, facecolors='none')\n",
    "            if test_data:\n",
    "                t_data = test_projected.loc(test_projected[class_column] == c)\n",
    "                ax.scatter(t_data[:,0], len(t_data) * [0], edgecolors=color, facecolors='none', marker='x')\n",
    "        plt.show()\n",
    "    if plot and num_components == 3:\n",
    "        fig = plt.figure()\n",
    "        ax = plt.axes(projection='3d')\n",
    "        for i, c in enumerate(classes):\n",
    "            data = train_projected[input_data[class_column] == c]\n",
    "            color = colors[i]\n",
    "            ax.scatter3D(data[:,0], data[:, 1], data[:, 2], edgecolors=color, facecolors='none')\n",
    "            if test_data:\n",
    "                t_data = test_projected.loc(test_projected[class_column] == c)\n",
    "                ax.scatter3D(t_data[:,0], t_data[:, 1], t_data[:, 2], edgecolors=color, facecolors='none', marker='x')\n",
    "        plt.show()\n",
    "\n",
    "    \n"
   ]
  },
  {
   "cell_type": "code",
   "execution_count": 208,
   "id": "e990251a",
   "metadata": {},
   "outputs": [
    {
     "data": {
      "image/png": "[encoded data removed]",
      "text/plain": [
       "<Figure size 432x288 with 1 Axes>"
      ]
     },
     "metadata": {
      "needs_background": "light"
     },
     "output_type": "display_data"
    },
    {
     "name": "stdout",
     "output_type": "stream",
     "text": [
      "99.1212604965367% of variance accounted for with 1 PCs\n"
     ]
    },
    {
     "data": {
      "image/png": "[encoded data removed]",
      "text/plain": [
       "<Figure size 432x288 with 1 Axes>"
      ]
     },
     "metadata": {
      "needs_background": "light"
     },
     "output_type": "display_data"
    },
    {
     "name": "stdout",
     "output_type": "stream",
     "text": [
      "100.0% of variance accounted for with 2 PCs\n"
     ]
    },
    {
     "data": {
      "image/png": "[encoded data removed]",
      "text/plain": [
       "<Figure size 432x288 with 1 Axes>"
      ]
     },
     "metadata": {
      "needs_background": "light"
     },
     "output_type": "display_data"
    },
    {
     "name": "stdout",
     "output_type": "stream",
     "text": [
      "100.00000000000003% of variance accounted for with 3 PCs\n"
     ]
    }
   ],
   "source": [
    "LDA(train_data, class_column, 1)\n",
    "LDA(train_data, class_column, 2)\n",
    "LDA(train_data, class_column, 3)"
   ]
  },
  {
   "cell_type": "markdown",
   "id": "4785f292",
   "metadata": {},
   "source": [
    "### Results\n",
    "The results of the LDA analysis were pretty disappointing, and I am not sure if I have a typo or a logical error in the data (any feedback would be appreciated). There is a single eigenvalue that is an order of magnitude larger than the others, so this axis is immediately the primary. The others don't contribute to better separation of the data. This implies to me that I made a mistake, but after a few hours of combing code I haven't been able to clear the issue up.\n",
    "\n",
    "The PCA results looked like they correctly depicted the PCs with the highest variance, so I believe that this implementation was correct\n",
    "\n",
    "### Conclusion\n",
    "Although the LDA method did not yield quality results, the assignment did provide a solid understanding of PCA and LDA implentations. The lectures were great for understanding the source of the methods, and the assignment required a concrete implentation, research, and understanding."
   ]
  },
  {
   "cell_type": "markdown",
   "id": "c298170f",
   "metadata": {},
   "source": []
  }
 ],
 "metadata": {
  "kernelspec": {
   "display_name": "venv",
   "language": "python",
   "name": "venv"
  },
  "language_info": {
   "codemirror_mode": {
    "name": "ipython",
    "version": 3
   },
   "file_extension": ".py",
   "mimetype": "text/x-python",
   "name": "python",
   "nbconvert_exporter": "python",
   "pygments_lexer": "ipython3",
   "version": "3.9.10"
  }
 },
 "nbformat": 4,
 "nbformat_minor": 5
}
