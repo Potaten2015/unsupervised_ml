{
 "cells": [
  {
   "cell_type": "markdown",
   "metadata": {},
   "source": [
    "# Assignment 7\n",
    "\n",
    "### _Description_\n",
    "The goal of this assignment was to design and organize the Self-Organizing Map (SOM) from the travelling salesman problem for neighborhood sizes 0-2, and with two different initial weight vectors for each neighborhood size.\n",
    "\n",
    "### _Technical Details_\n",
    "The SOM is a tool that can be used to map higher dimensional data into a lower dimensional space, and provide a topographical representation of the data that can be used for tasks like clustering and sensitivity analysis. The SOM algorithm can be broken down into the following steps<sup>1</sup>.\n",
    "\n",
    "1. Each node's weights are initialized.\n",
    "2. A vector is chosen at random from the set of training data.\n",
    "3. Every node is examined to calculate which one's weights are most like the input vector. The winning node is commonly known as the Best Matching Unit (BMU).\n",
    "4. Then the neighbourhood of the BMU is calculated. The amount of neighbors decreases over time.\n",
    "5. The winning weight is rewarded with becoming more like the sample vector. The neighbors also become more like the sample vector. The closer a node is to the BMU, the more its weights get altered and the farther away the neighbor is from the BMU, the less it learns.\n",
    "6. Repeat step 2 for N iterations.\n",
    "\n",
    "There are three main sections of the algorithm; matching, cooperation, and competition. In the matching stage (step 3), the weight unit that fits the matching criteria, which is often a minimum distance measure, is chosen as the best matching unit (BMU). In the cooperation stage (step 5) the BMU and the units within the neighborhood are updated to move towards (or potentially away from) the random vector. In the competition stage, the neighborhood has been updated to include only the BMU, and the BMU is the only unit that is updated, causing it to 'win' over the other units.\n",
    "\n",
    "### _Results_\n",
    "The results of using SOM for the TSM problem are shown below. Each row has the results\n",
    "\n",
    "<span style=\"font-size: .5em;\"><sup>1</sup>[Self-Organizing Maps](https://sites.pitt.edu/~is2470pb/Spring05/FinalProjects/Group1a/tutorial/som.html#:~:text=SOM%20Algorithm&text=SOM%20mapping%20steps%20starts%20from,that%20are%20close%20to%20it.)</span>"
   ]
  },
  {
   "cell_type": "markdown",
   "metadata": {},
   "source": [
    "<div style=\"width:100%; display:flex; flex-direction:column\">\n",
    "    <div style=\"width:100%; height:25%; display:flex; flex-direction:row; justify-content:center;\">\n",
    "        <img src='/Users/tatenknight/school/unsupervised_ml/week7/points-10-neighborhood-0-convergence-0.001-weightVector-1.gif' style=\"width:25%;\">\n",
    "        </img>\n",
    "        <img src='/Users/tatenknight/school/unsupervised_ml/week7/points-10-neighborhood-0-convergence-0.001-weightVector-2.gif' style=\"width:25%;\">\n",
    "        </img>\n",
    "    </div>\n",
    "    <div style=\"width:100%; height:25%; display:flex; flex-direction:row; justify-content:center;\">\n",
    "        <img src='/Users/tatenknight/school/unsupervised_ml/week7/points-10-neighborhood-1-convergence-0.001-weightVector-1.gif' style=\"width:25%;\">\n",
    "        </img>\n",
    "        <img src='/Users/tatenknight/school/unsupervised_ml/week7/points-10-neighborhood-1-convergence-0.001-weightVector-2.gif' style=\"width:25%;\">\n",
    "        </img>\n",
    "    </div>\n",
    "    <div style=\"width:100%; height:25%; display:flex; flex-direction:row; justify-content:center;\">\n",
    "        <img src='/Users/tatenknight/school/unsupervised_ml/week7/points-10-neighborhood-2-convergence-0.001-weightVector-1.gif' style=\"width:25%;\">\n",
    "        </img>\n",
    "        <img src='/Users/tatenknight/school/unsupervised_ml/week7/points-10-neighborhood-2-convergence-0.001-weightVector-2.gif' style=\"width:25%;\">\n",
    "        </img>\n",
    "    </div>\n",
    "    <div style=\"width:100%; height:25%; display:flex; flex-direction:row; justify-content:center;\">\n",
    "        <img src='/Users/tatenknight/school/unsupervised_ml/week7/points-10-neighborhood-3-convergence-0.001-weightVector-1.gif' style=\"width:25%;\">\n",
    "        </img>\n",
    "        <img src='/Users/tatenknight/school/unsupervised_ml/week7/points-10-neighborhood-3-convergence-0.001-weightVector-2.gif' style=\"width:25%;\">\n",
    "        </img>\n",
    "    </div>\n",
    "</div>"
   ]
  },
  {
   "cell_type": "code",
   "execution_count": null,
   "metadata": {},
   "outputs": [],
   "source": []
  }
 ],
 "metadata": {
  "interpreter": {
   "hash": "e85765514addcbc849292c87845400c670634866cdccdb5b6c9d37693ccc52b1"
  },
  "kernelspec": {
   "display_name": "Python 3.9.10 ('venv': venv)",
   "language": "python",
   "name": "python3"
  },
  "language_info": {
   "codemirror_mode": {
    "name": "ipython",
    "version": 3
   },
   "file_extension": ".py",
   "mimetype": "text/x-python",
   "name": "python",
   "nbconvert_exporter": "python",
   "pygments_lexer": "ipython3",
   "version": "3.9.10"
  },
  "orig_nbformat": 4
 },
 "nbformat": 4,
 "nbformat_minor": 2
}
